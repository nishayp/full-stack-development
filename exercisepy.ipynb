{
  "nbformat": 4,
  "nbformat_minor": 0,
  "metadata": {
    "colab": {
      "name": "exercisepy.ipynb",
      "provenance": [],
      "authorship_tag": "ABX9TyOrQaJSQDsQ9ZRggABvVuDd",
      "include_colab_link": true
    },
    "kernelspec": {
      "name": "python3",
      "display_name": "Python 3"
    },
    "language_info": {
      "name": "python"
    }
  },
  "cells": [
    {
      "cell_type": "markdown",
      "metadata": {
        "id": "view-in-github",
        "colab_type": "text"
      },
      "source": [
        "<a href=\"https://colab.research.google.com/github/nishayp/full-stack-development/blob/main/exercisepy.ipynb\" target=\"_parent\"><img src=\"https://colab.research.google.com/assets/colab-badge.svg\" alt=\"Open In Colab\"/></a>"
      ]
    },
    {
      "cell_type": "code",
      "metadata": {
        "colab": {
          "base_uri": "https://localhost:8080/"
        },
        "id": "tAhjxgM0JFuB",
        "outputId": "5cec75d8-b59a-4a37-a42d-6ef425a856bc"
      },
      "source": [
        "#compound interest\n",
        "import math\n",
        "p=int(input(\"enter the value:\"))\n",
        "n=int(input(\"enter the value:\"))\n",
        "r=int(input(\"enter the value:\"))\n",
        "c=p*((1+n*r)/100)*n\n",
        "print(\"formula is {0}\".format(c))"
      ],
      "execution_count": 7,
      "outputs": [
        {
          "output_type": "stream",
          "name": "stdout",
          "text": [
            "enter the value:100\n",
            "enter the value:20\n",
            "enter the value:4\n",
            "formula is 1620.0\n"
          ]
        }
      ]
    },
    {
      "cell_type": "code",
      "metadata": {
        "colab": {
          "base_uri": "https://localhost:8080/"
        },
        "id": "5NwPOoL9s8W1",
        "outputId": "40378432-b7c0-41a8-94bd-ba8684cc291f"
      },
      "source": [
        "#To check the length of string without using length function\n",
        "string=(input(\"enter the string:\"))\n",
        "n=0\n",
        "for i in string:\n",
        "  n+=1\n",
        "  print(\"length of string{0} is {1}\".format(string,n))"
      ],
      "execution_count": 11,
      "outputs": [
        {
          "output_type": "stream",
          "name": "stdout",
          "text": [
            "enter the string:nisha\n",
            "length of stringnisha is 1\n",
            "length of stringnisha is 2\n",
            "length of stringnisha is 3\n",
            "length of stringnisha is 4\n",
            "length of stringnisha is 5\n"
          ]
        }
      ]
    },
    {
      "cell_type": "code",
      "metadata": {
        "colab": {
          "base_uri": "https://localhost:8080/"
        },
        "id": "FoXHYus2urw0",
        "outputId": "3d8e4298-f573-4d83-e611-686527c7b00c"
      },
      "source": [
        "#even or odd\n",
        "num=int(input(\"enter the number:\"))\n",
        "if num%2==0:\n",
        "  print(\"number is even\")\n",
        "else:\n",
        "  print(\"number is odd\")"
      ],
      "execution_count": 13,
      "outputs": [
        {
          "output_type": "stream",
          "name": "stdout",
          "text": [
            "enter the number:5\n",
            "numbet is odd\n"
          ]
        }
      ]
    },
    {
      "cell_type": "code",
      "metadata": {
        "colab": {
          "base_uri": "https://localhost:8080/"
        },
        "id": "0LsT7Tkjvabn",
        "outputId": "9c7cde73-f297-40ff-f5a1-5e729b228fac"
      },
      "source": [
        "#greater of three nos\n",
        "n1=int(input(\"enter the num n1:\"))\n",
        "n2=int(input(\"enter the num n2:\"))\n",
        "n3=int(input(\"enter the num n3:\"))\n",
        "if n1>n2 & n1>n3:\n",
        "  print(\"the num {0} is greater\".format(n1))\n",
        "elif n2>n3:\n",
        "  print(\"the num{0} is greater\".format(n2))\n",
        "else:\n",
        "  print(\"the num{0} is greater\",format(n3))\n",
        "\n"
      ],
      "execution_count": 14,
      "outputs": [
        {
          "output_type": "stream",
          "name": "stdout",
          "text": [
            "enter the num n1:5\n",
            "enter the num n2:6\n",
            "enter the num n3:9\n",
            "the num{0} is greater 9\n"
          ]
        }
      ]
    }
  ]
}