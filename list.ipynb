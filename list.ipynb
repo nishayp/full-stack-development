{
  "nbformat": 4,
  "nbformat_minor": 0,
  "metadata": {
    "colab": {
      "name": "list.ipynb",
      "provenance": [],
      "collapsed_sections": [],
      "authorship_tag": "ABX9TyM+f/Ep+ycq4G2gtOwrlogF",
      "include_colab_link": true
    },
    "kernelspec": {
      "name": "python3",
      "display_name": "Python 3"
    },
    "language_info": {
      "name": "python"
    }
  },
  "cells": [
    {
      "cell_type": "markdown",
      "metadata": {
        "id": "view-in-github",
        "colab_type": "text"
      },
      "source": [
        "<a href=\"https://colab.research.google.com/github/nishayp/full-stack-development/blob/main/list.ipynb\" target=\"_parent\"><img src=\"https://colab.research.google.com/assets/colab-badge.svg\" alt=\"Open In Colab\"/></a>"
      ]
    },
    {
      "cell_type": "code",
      "metadata": {
        "colab": {
          "base_uri": "https://localhost:8080/"
        },
        "id": "kBBx1YUavG85",
        "outputId": "eb011744-5950-4f8b-81c3-e905fe3a528d"
      },
      "source": [
        "#list\n",
        "alphabetlist=[\"a\",\"b\",\"c\",\"d\",\"e\"]\n",
        "print(alphabetlist)\n",
        "print(alphabetlist[-1])\n",
        "print(alphabetlist[:4])\n",
        "print(alphabetlist[4])\n",
        "print(alphabetlist[3:])\n",
        "print(alphabetlist)"
      ],
      "execution_count": 3,
      "outputs": [
        {
          "output_type": "stream",
          "name": "stdout",
          "text": [
            "['a', 'b', 'c', 'd', 'e']\n",
            "e\n",
            "['a', 'b', 'c', 'd']\n",
            "e\n",
            "['d', 'e']\n",
            "['a', 'b', 'c', 'd', 'e']\n"
          ]
        }
      ]
    },
    {
      "cell_type": "code",
      "metadata": {
        "colab": {
          "base_uri": "https://localhost:8080/"
        },
        "id": "wiKkcH8ywc8Y",
        "outputId": "f10e5b4e-1d49-4154-a543-1cffe3179e2f"
      },
      "source": [
        "#key\n",
        "key=input(\"enter a alphabetlist to search\")\n",
        "if key in alphabetlist:\n",
        "  print(\"yes,key is in list\")\n",
        "else:\n",
        "  print(\"key not in list\")"
      ],
      "execution_count": 5,
      "outputs": [
        {
          "output_type": "stream",
          "name": "stdout",
          "text": [
            "enter a alphabetlist to searchz\n",
            "key not in list\n"
          ]
        }
      ]
    },
    {
      "cell_type": "code",
      "metadata": {
        "colab": {
          "base_uri": "https://localhost:8080/"
        },
        "id": "A0PBZ1SjxDCc",
        "outputId": "d3034845-8dea-4a60-82db-12e3e97b35bd"
      },
      "source": [
        "#adding\n",
        "numlist=[\"x\",\"z\",\"y\"]\n",
        "numlist.append(\"w\")\n",
        "print(numlist)"
      ],
      "execution_count": 19,
      "outputs": [
        {
          "output_type": "stream",
          "name": "stdout",
          "text": [
            "['x', 'z', 'y', 'w']\n"
          ]
        }
      ]
    },
    {
      "cell_type": "code",
      "metadata": {
        "colab": {
          "base_uri": "https://localhost:8080/"
        },
        "id": "bUoSSnEDzHs_",
        "outputId": "9fb85502-e9e9-44ea-9086-c2df63e704f3"
      },
      "source": [
        "#remove\n",
        "numlist=[\"1\",\"2\",\"3\"]\n",
        "numlist.remove(\"2\")\n",
        "print(numlist)"
      ],
      "execution_count": 22,
      "outputs": [
        {
          "output_type": "stream",
          "name": "stdout",
          "text": [
            "['1', '3']\n"
          ]
        }
      ]
    },
    {
      "cell_type": "code",
      "metadata": {
        "colab": {
          "base_uri": "https://localhost:8080/"
        },
        "id": "m_0YHut2z1h8",
        "outputId": "bce0401c-8840-41bf-8bbe-ae4638b121a0"
      },
      "source": [
        "#pop\n",
        "numlist.pop()\n",
        "print(numlist)"
      ],
      "execution_count": 23,
      "outputs": [
        {
          "output_type": "stream",
          "name": "stdout",
          "text": [
            "['1']\n"
          ]
        }
      ]
    },
    {
      "cell_type": "code",
      "metadata": {
        "colab": {
          "base_uri": "https://localhost:8080/"
        },
        "id": "xOKxXrWd0FEw",
        "outputId": "95e67c6a-9b50-4ab5-ba24-d9ab5c8078db"
      },
      "source": [
        "#del\n",
        "numlist=[\"5\",\"6\",\"7\",\"8\"]\n",
        "del numlist[1]\n",
        "print(numlist)"
      ],
      "execution_count": 31,
      "outputs": [
        {
          "output_type": "stream",
          "name": "stdout",
          "text": [
            "['5', '7', '8']\n"
          ]
        }
      ]
    },
    {
      "cell_type": "code",
      "metadata": {
        "colab": {
          "base_uri": "https://localhost:8080/"
        },
        "id": "mY1T_44T1HYy",
        "outputId": "cd9ea14c-09ba-4c22-a73d-00f20a59776b"
      },
      "source": [
        "#clear\n",
        "numlist.clear()\n",
        "print(numlist)"
      ],
      "execution_count": 32,
      "outputs": [
        {
          "output_type": "stream",
          "name": "stdout",
          "text": [
            "[]\n"
          ]
        }
      ]
    },
    {
      "cell_type": "code",
      "metadata": {
        "colab": {
          "base_uri": "https://localhost:8080/"
        },
        "id": "_tV-Xv0w1TEH",
        "outputId": "88827e27-5d5a-4ca5-fe8d-31ef427cd20d"
      },
      "source": [
        "#copy constructer\n",
        "numlist=[\"7\",\"8\",\"9\",\"10\"]\n",
        "numlist1=list(numlist)\n",
        "print(numlist1)"
      ],
      "execution_count": 33,
      "outputs": [
        {
          "output_type": "stream",
          "name": "stdout",
          "text": [
            "['7', '8', '9', '10']\n"
          ]
        }
      ]
    },
    {
      "cell_type": "code",
      "metadata": {
        "colab": {
          "base_uri": "https://localhost:8080/"
        },
        "id": "65COvZ-g1ukv",
        "outputId": "07a970bb-c604-4133-b9f5-3a7001fb18b3"
      },
      "source": [
        "#copy method\n",
        "numlist=[\"1\",\"2\",\"3\"]\n",
        "numlist1=numlist.copy()\n",
        "print(numlist)"
      ],
      "execution_count": 34,
      "outputs": [
        {
          "output_type": "stream",
          "name": "stdout",
          "text": [
            "['1', '2', '3']\n"
          ]
        }
      ]
    },
    {
      "cell_type": "code",
      "metadata": {
        "colab": {
          "base_uri": "https://localhost:8080/"
        },
        "id": "tCSFhikh2Bqh",
        "outputId": "b5a0f719-8f60-42fd-9727-0d4b75888e54"
      },
      "source": [
        "#+\n",
        "numlist=[\"1\",\"2\",\"3\",\"4\"]\n",
        "numlist1=[\"5\",\"6\",\"7\",\"8\"]\n",
        "num_new=numlist1+numlist\n",
        "print(numlist)"
      ],
      "execution_count": 35,
      "outputs": [
        {
          "output_type": "stream",
          "name": "stdout",
          "text": [
            "['1', '2', '3', '4']\n"
          ]
        }
      ]
    },
    {
      "cell_type": "code",
      "metadata": {
        "colab": {
          "base_uri": "https://localhost:8080/",
          "height": 212
        },
        "id": "OE_tQUEf2iAh",
        "outputId": "e83f4531-c6e2-4203-c1b5-ccf21e9b0e99"
      },
      "source": [
        "#append\n",
        "\n",
        "for x in numlist:\n",
        "numlist1.append(x)\n",
        "print(numlist1)"
      ],
      "execution_count": 1,
      "outputs": [
        {
          "output_type": "error",
          "ename": "NameError",
          "evalue": "ignored",
          "traceback": [
            "\u001b[0;31m---------------------------------------------------------------------------\u001b[0m",
            "\u001b[0;31mNameError\u001b[0m                                 Traceback (most recent call last)",
            "\u001b[0;32m<ipython-input-1-9b9921125044>\u001b[0m in \u001b[0;36m<module>\u001b[0;34m()\u001b[0m\n\u001b[1;32m      1\u001b[0m \u001b[0;31m#append\u001b[0m\u001b[0;34m\u001b[0m\u001b[0;34m\u001b[0m\u001b[0;34m\u001b[0m\u001b[0m\n\u001b[0;32m----> 2\u001b[0;31m \u001b[0;32mfor\u001b[0m \u001b[0mx\u001b[0m \u001b[0;32min\u001b[0m \u001b[0mnumlist\u001b[0m\u001b[0;34m:\u001b[0m\u001b[0;34m\u001b[0m\u001b[0;34m\u001b[0m\u001b[0m\n\u001b[0m\u001b[1;32m      3\u001b[0m  \u001b[0mnumlist1\u001b[0m\u001b[0;34m.\u001b[0m\u001b[0mappend\u001b[0m\u001b[0;34m(\u001b[0m\u001b[0mx\u001b[0m\u001b[0;34m)\u001b[0m\u001b[0;34m\u001b[0m\u001b[0;34m\u001b[0m\u001b[0m\n\u001b[1;32m      4\u001b[0m \u001b[0mprint\u001b[0m\u001b[0;34m(\u001b[0m\u001b[0mnumlist1\u001b[0m\u001b[0;34m)\u001b[0m\u001b[0;34m\u001b[0m\u001b[0;34m\u001b[0m\u001b[0m\n",
            "\u001b[0;31mNameError\u001b[0m: name 'numlist' is not defined"
          ]
        }
      ]
    },
    {
      "cell_type": "code",
      "metadata": {
        "colab": {
          "base_uri": "https://localhost:8080/"
        },
        "id": "ZjZx-pu55eBi",
        "outputId": "6892c0fe-0524-4d67-cfaf-1484b96f04da"
      },
      "source": [
        "#vowels\n",
        "string=input(\"enter the name of string\")\n",
        "vowels=0\n",
        "for i in string:\n",
        "  if (i=='a'or i=='e'or i=='i' or i=='o'or i=='u' or i=='A' or i=='E' or i=='I' or i=='O' or i=='U'):\n",
        "    vowels=vowels+1\n",
        "  print(\"number of vowels are:\")\n",
        "  print(vowels)"
      ],
      "execution_count": 18,
      "outputs": [
        {
          "output_type": "stream",
          "name": "stdout",
          "text": [
            "enter the name of stringjava\n",
            "number of vowels are:\n",
            "0\n",
            "number of vowels are:\n",
            "1\n",
            "number of vowels are:\n",
            "1\n",
            "number of vowels are:\n",
            "2\n"
          ]
        }
      ]
    },
    {
      "cell_type": "code",
      "metadata": {
        "colab": {
          "base_uri": "https://localhost:8080/"
        },
        "id": "J9hz_6Od9ALX",
        "outputId": "3b50bea8-2f1c-41ab-f822-f82788861208"
      },
      "source": [
        "#replace\n",
        "string=input(\"enter the string:\")\n",
        "string=string.replace('a','$')\n",
        "string=string.replace('a','$')\n",
        "print(string)"
      ],
      "execution_count": 19,
      "outputs": [
        {
          "output_type": "stream",
          "name": "stdout",
          "text": [
            "enter the string:nisha\n",
            "nish$\n"
          ]
        }
      ]
    },
    {
      "cell_type": "code",
      "metadata": {
        "colab": {
          "base_uri": "https://localhost:8080/"
        },
        "id": "5BZXeRTj-n0W",
        "outputId": "a010096d-acbf-4986-b8c4-b7b61eabac28"
      },
      "source": [
        "n1=int(input(\"enter the integer:\"))\n",
        "n2=int(input(\"enter the integer:\"))\n",
        "sum=n1+n2\n",
        "print(\"sum of {0} & {1} is {2}\".format(n1,n2,sum))"
      ],
      "execution_count": 41,
      "outputs": [
        {
          "output_type": "stream",
          "name": "stdout",
          "text": [
            "enter the integer:4\n",
            "enter the integer:3\n",
            "sum of 4 & 3 is 7\n"
          ]
        }
      ]
    },
    {
      "cell_type": "code",
      "metadata": {
        "colab": {
          "base_uri": "https://localhost:8080/"
        },
        "id": "erts5kTcCzwT",
        "outputId": "db7e566c-fae6-4f89-9e06-3efbb0653248"
      },
      "source": [
        "km=int(input(\"enter the value for km:\"))\n",
        "miles=int(input(\"enter the value for miles:\"))\n",
        "miles=km*0.62\n",
        "print(miles)"
      ],
      "execution_count": 43,
      "outputs": [
        {
          "output_type": "stream",
          "name": "stdout",
          "text": [
            "enter the value for km:50\n",
            "enter the value for miles:20\n",
            "31.0\n"
          ]
        }
      ]
    },
    {
      "cell_type": "code",
      "metadata": {
        "colab": {
          "base_uri": "https://localhost:8080/"
        },
        "id": "dzbBeb-yDVcU",
        "outputId": "6d547c56-0206-4754-c3aa-50ffab93a8a6"
      },
      "source": [
        "#random\n",
        "import random\n",
        "num=int(input(\"enter the random num\"))\n",
        "print(random.randint(0,9))"
      ],
      "execution_count": 47,
      "outputs": [
        {
          "output_type": "stream",
          "name": "stdout",
          "text": [
            "enter the random num6\n",
            "2\n"
          ]
        }
      ]
    },
    {
      "cell_type": "code",
      "metadata": {
        "colab": {
          "base_uri": "https://localhost:8080/",
          "height": 128
        },
        "id": "x6wPlH1rFYkI",
        "outputId": "7865f765-e5ae-4843-ce80-645851684186"
      },
      "source": [
        "def change(string):\n",
        "  return string[-1:]+string[1:-1]+strin[:1]\n",
        "  string=input(\"entre string:\")\n",
        "  print(\"modified string:\")\n",
        "  print(change string)"
      ],
      "execution_count": 49,
      "outputs": [
        {
          "output_type": "error",
          "ename": "SyntaxError",
          "evalue": "ignored",
          "traceback": [
            "\u001b[0;36m  File \u001b[0;32m\"<ipython-input-49-7b735ffaf5e0>\"\u001b[0;36m, line \u001b[0;32m5\u001b[0m\n\u001b[0;31m    print(change string)\u001b[0m\n\u001b[0m                      ^\u001b[0m\n\u001b[0;31mSyntaxError\u001b[0m\u001b[0;31m:\u001b[0m invalid syntax\n"
          ]
        }
      ]
    }
  ]
}