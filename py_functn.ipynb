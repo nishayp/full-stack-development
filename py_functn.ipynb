{
  "nbformat": 4,
  "nbformat_minor": 0,
  "metadata": {
    "colab": {
      "name": "py functn.ipynb",
      "provenance": [],
      "authorship_tag": "ABX9TyPQKXF1fcQTzEp2z51sVTs3",
      "include_colab_link": true
    },
    "kernelspec": {
      "name": "python3",
      "display_name": "Python 3"
    },
    "language_info": {
      "name": "python"
    }
  },
  "cells": [
    {
      "cell_type": "markdown",
      "metadata": {
        "id": "view-in-github",
        "colab_type": "text"
      },
      "source": [
        "<a href=\"https://colab.research.google.com/github/nishayp/full-stack-development/blob/main/py_functn.ipynb\" target=\"_parent\"><img src=\"https://colab.research.google.com/assets/colab-badge.svg\" alt=\"Open In Colab\"/></a>"
      ]
    },
    {
      "cell_type": "code",
      "metadata": {
        "id": "49aPLUCnRIG5"
      },
      "source": [
        "#create a functn\n",
        "def add():\n",
        "  print(\"addition functn\")\n",
        "  add()"
      ],
      "execution_count": 3,
      "outputs": []
    },
    {
      "cell_type": "code",
      "metadata": {
        "colab": {
          "base_uri": "https://localhost:8080/"
        },
        "id": "tvW_M_aSRqnT",
        "outputId": "c7e75709-8b4f-47a4-c98a-0c09013319b6"
      },
      "source": [
        "#arguments\n",
        "def add(a,b):\n",
        " print(\"addition functn result:\",a+b)\n",
        "add(1,2)"
      ],
      "execution_count": 7,
      "outputs": [
        {
          "output_type": "stream",
          "name": "stdout",
          "text": [
            "addition functn result: 3\n"
          ]
        }
      ]
    },
    {
      "cell_type": "code",
      "metadata": {
        "colab": {
          "base_uri": "https://localhost:8080/"
        },
        "id": "0Xona9NvSMyL",
        "outputId": "8ef213e0-3543-4c87-d50f-2d3b1cd4e05a"
      },
      "source": [
        "#arbitrary arguments\n",
        "def arb_arg_func(*nums):\n",
        "  print(\"the third number is\",nums[1])\n",
        "arb_arg_func(23,34,45)"
      ],
      "execution_count": 23,
      "outputs": [
        {
          "output_type": "stream",
          "name": "stdout",
          "text": [
            "the third number is 34\n"
          ]
        }
      ]
    },
    {
      "cell_type": "code",
      "metadata": {
        "colab": {
          "base_uri": "https://localhost:8080/"
        },
        "id": "SgyfkQESS6nd",
        "outputId": "d70a7519-00fa-48bb-9035-703bf5b98117"
      },
      "source": [
        "#keyword arguments\n",
        "def key_arg_func(n1,n2,n3):\n",
        "  print(\"the third num is\",n3)\n",
        "key_arg_func(n3=23,n2=45,n1=34)\n"
      ],
      "execution_count": 27,
      "outputs": [
        {
          "output_type": "stream",
          "name": "stdout",
          "text": [
            "the third num is 23\n"
          ]
        }
      ]
    },
    {
      "cell_type": "code",
      "metadata": {
        "colab": {
          "base_uri": "https://localhost:8080/"
        },
        "id": "iC7F1U6lUBHt",
        "outputId": "567ff055-988a-4cec-a524-d704c3d07258"
      },
      "source": [
        "#arbitrary keyword argument\n",
        "def arb_key_arg_func(**nums):\n",
        "  print(\"the third num is\",nums[\"n1\"])\n",
        "arb_key_arg_func(n3=23,n1=34,n2=45)"
      ],
      "execution_count": 29,
      "outputs": [
        {
          "output_type": "stream",
          "name": "stdout",
          "text": [
            "the third num is 34\n"
          ]
        }
      ]
    },
    {
      "cell_type": "code",
      "metadata": {
        "colab": {
          "base_uri": "https://localhost:8080/"
        },
        "id": "7jtJS5-dUkBh",
        "outputId": "52fe4244-d90c-4f52-90bc-98db5291dac1"
      },
      "source": [
        "#default parameter value\n",
        "def def_func(num=350):\n",
        " print(\"the num is\",num)\n",
        "def_func(23)\n",
        "def_func(34)\n",
        "def_func()"
      ],
      "execution_count": 32,
      "outputs": [
        {
          "output_type": "stream",
          "name": "stdout",
          "text": [
            "the num is 23\n",
            "the num is 34\n",
            "the num is 350\n"
          ]
        }
      ]
    },
    {
      "cell_type": "code",
      "metadata": {
        "colab": {
          "base_uri": "https://localhost:8080/"
        },
        "id": "vBN3hSpDVHQm",
        "outputId": "87facd60-f1a4-4bc0-bc06-7061f42d01a4"
      },
      "source": [
        "#passing a list as an argument\n",
        "def rno(nums):\n",
        "  print(\"the roll num\",nums)\n",
        "sno=[34,45,25]\n",
        "rno(sno)"
      ],
      "execution_count": 36,
      "outputs": [
        {
          "output_type": "stream",
          "name": "stdout",
          "text": [
            "the roll num [34, 45, 25]\n"
          ]
        }
      ]
    },
    {
      "cell_type": "code",
      "metadata": {
        "colab": {
          "base_uri": "https://localhost:8080/"
        },
        "id": "-shqwLfsVuEO",
        "outputId": "517b7e2d-7dd9-4f46-b66e-d8c6d0cb9b1a"
      },
      "source": [
        "#return values\n",
        "def gracemarks(num):\n",
        "  return 2+num\n",
        "n=gracemarks(34)\n",
        "print(n)"
      ],
      "execution_count": 42,
      "outputs": [
        {
          "output_type": "stream",
          "name": "stdout",
          "text": [
            "36\n"
          ]
        }
      ]
    },
    {
      "cell_type": "code",
      "metadata": {
        "id": "KEpUlXKlWPhj"
      },
      "source": [
        "#pass statement\n",
        "def func():\n",
        "  pass"
      ],
      "execution_count": 44,
      "outputs": []
    },
    {
      "cell_type": "code",
      "metadata": {
        "colab": {
          "base_uri": "https://localhost:8080/"
        },
        "id": "T9rt-NYbWYnJ",
        "outputId": "f54487e8-38a3-433d-dea4-943fe25767be"
      },
      "source": [
        "#recursion\n",
        "def fact(num):\n",
        "  if num==1: return 1\n",
        "  else: return num*fact(num-1)\n",
        "n=fact(4)\n",
        "print(n)"
      ],
      "execution_count": 48,
      "outputs": [
        {
          "output_type": "stream",
          "name": "stdout",
          "text": [
            "24\n"
          ]
        }
      ]
    }
  ]
}