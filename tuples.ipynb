{
  "nbformat": 4,
  "nbformat_minor": 0,
  "metadata": {
    "colab": {
      "name": "tuples.ipynb",
      "provenance": [],
      "authorship_tag": "ABX9TyPgH/yE8JlFOtut010s/uu5",
      "include_colab_link": true
    },
    "kernelspec": {
      "name": "python3",
      "display_name": "Python 3"
    },
    "language_info": {
      "name": "python"
    }
  },
  "cells": [
    {
      "cell_type": "markdown",
      "metadata": {
        "id": "view-in-github",
        "colab_type": "text"
      },
      "source": [
        "<a href=\"https://colab.research.google.com/github/nishayp/full-stack-development/blob/main/tuples.ipynb\" target=\"_parent\"><img src=\"https://colab.research.google.com/assets/colab-badge.svg\" alt=\"Open In Colab\"/></a>"
      ]
    },
    {
      "cell_type": "code",
      "metadata": {
        "colab": {
          "base_uri": "https://localhost:8080/"
        },
        "id": "J5qqWGza6Hrt",
        "outputId": "fd719350-3697-4117-c1bf-2d4a5d497f85"
      },
      "source": [
        "#creating a tuple\n",
        "emptuple=(\"nisha\",\"my3\",\"harini\",\"sahana\")\n",
        "print(emptuple)"
      ],
      "execution_count": 1,
      "outputs": [
        {
          "output_type": "stream",
          "name": "stdout",
          "text": [
            "('nisha', 'my3', 'harini', 'sahana')\n"
          ]
        }
      ]
    },
    {
      "cell_type": "code",
      "metadata": {
        "colab": {
          "base_uri": "https://localhost:8080/"
        },
        "id": "Nw8Af4I66mpn",
        "outputId": "5a4f0792-a06f-4e3e-e479-9690a66c55cc"
      },
      "source": [
        "#accesing the tuple\n",
        "emptuple=(\"nisha\",\"my3\",\"harini\",\"sahana\")\n",
        "print(emptuple[2])"
      ],
      "execution_count": 2,
      "outputs": [
        {
          "output_type": "stream",
          "name": "stdout",
          "text": [
            "harini\n"
          ]
        }
      ]
    },
    {
      "cell_type": "code",
      "metadata": {
        "colab": {
          "base_uri": "https://localhost:8080/"
        },
        "id": "qMLNwOnk67j5",
        "outputId": "8e1c967b-8a8f-42fb-9fb1-1a1e1244b639"
      },
      "source": [
        "#negative index\n",
        "emptuple=(\"nisha\",\"my3\",\"harini\",\"sana\")\n",
        "print(emptuple[-2])"
      ],
      "execution_count": 10,
      "outputs": [
        {
          "output_type": "stream",
          "name": "stdout",
          "text": [
            "harini\n"
          ]
        }
      ]
    },
    {
      "cell_type": "code",
      "metadata": {
        "colab": {
          "base_uri": "https://localhost:8080/"
        },
        "id": "4UQibHhU76kw",
        "outputId": "126f26ca-032c-4f40-d5eb-8752f0aac120"
      },
      "source": [
        "#change tuple value\n",
        "emptuple=(\"nish\",\"my3\",\"hari\",\"sana\")\n",
        "print(emptuple)\n",
        "s=list(emptuple)\n",
        "s[1]=\"vash\"\n",
        "emptuple=tuple(s)\n",
        "print(emptuple)"
      ],
      "execution_count": 11,
      "outputs": [
        {
          "output_type": "stream",
          "name": "stdout",
          "text": [
            "('nish', 'my3', 'hari', 'sana')\n",
            "('nish', 'vash', 'hari', 'sana')\n"
          ]
        }
      ]
    },
    {
      "cell_type": "code",
      "metadata": {
        "colab": {
          "base_uri": "https://localhost:8080/"
        },
        "id": "qyXQPiUW8bsv",
        "outputId": "899d0587-1fff-4d1e-df31-c302e2010ae3"
      },
      "source": [
        "#loop in tuple\n",
        "emptuple=(\"nish\",\"my3\",\"hari\",\"sana\")\n",
        "for x in emptuple:\n",
        "  print(x)\n"
      ],
      "execution_count": 12,
      "outputs": [
        {
          "output_type": "stream",
          "name": "stdout",
          "text": [
            "nish\n",
            "my3\n",
            "hari\n",
            "sana\n"
          ]
        }
      ]
    },
    {
      "cell_type": "code",
      "metadata": {
        "colab": {
          "base_uri": "https://localhost:8080/"
        },
        "id": "3qmN4_dS88Zu",
        "outputId": "fff30140-024c-4355-be1b-44edd9db3321"
      },
      "source": [
        "#check the item exists\n",
        "emptuple=(\"nisha\",\"my3\",\"hari\",\"sana\")\n",
        "print(emptuple)\n",
        "key=input(\"enter the name to search\")\n",
        "if key in emptuple:\n",
        "  print(\"yes,key is found\")\n",
        "else:\n",
        "  print(\"key not found\")"
      ],
      "execution_count": 15,
      "outputs": [
        {
          "output_type": "stream",
          "name": "stdout",
          "text": [
            "('nisha', 'my3', 'hari', 'sana')\n",
            "enter the name to searchnisha\n",
            "yes,key is found\n"
          ]
        }
      ]
    },
    {
      "cell_type": "code",
      "metadata": {
        "colab": {
          "base_uri": "https://localhost:8080/"
        },
        "id": "l35Wadts9mI1",
        "outputId": "229e0053-95d6-4ea4-f8b4-8ffd512a7701"
      },
      "source": [
        "#length of tuple\n",
        "emptuple=(\"nish\",\"my3\",\"sana\",\"hari\")\n",
        "print(len(emptuple))\n"
      ],
      "execution_count": 16,
      "outputs": [
        {
          "output_type": "stream",
          "name": "stdout",
          "text": [
            "4\n"
          ]
        }
      ]
    },
    {
      "cell_type": "code",
      "metadata": {
        "colab": {
          "base_uri": "https://localhost:8080/"
        },
        "id": "ofFlq-XF96Qu",
        "outputId": "3a76da06-0022-4d1c-f355-2ca18471adc1"
      },
      "source": [
        "#adding items\n",
        "emptuple=(\"nish\",\"my3\",\"sana\",\"hari\")\n",
        "s=list(emptuple)\n",
        "s.append(\"vasha\")\n",
        "emptuple=tuple(s)\n",
        "print(emptuple)"
      ],
      "execution_count": 21,
      "outputs": [
        {
          "output_type": "stream",
          "name": "stdout",
          "text": [
            "('nish', 'my3', 'sana', 'hari', 'vasha')\n"
          ]
        }
      ]
    },
    {
      "cell_type": "code",
      "metadata": {
        "colab": {
          "base_uri": "https://localhost:8080/"
        },
        "id": "oxnpcmJu-tvJ",
        "outputId": "8d65e5dd-95dd-4074-a9cf-d09765db647e"
      },
      "source": [
        "#creating tuple with one item\n",
        "emptuple=(\"nikki\",)\n",
        "print(type(emptuple))\n"
      ],
      "execution_count": 22,
      "outputs": [
        {
          "output_type": "stream",
          "name": "stdout",
          "text": [
            "<class 'tuple'>\n"
          ]
        }
      ]
    },
    {
      "cell_type": "code",
      "metadata": {
        "colab": {
          "base_uri": "https://localhost:8080/"
        },
        "id": "-06vRBAX_IN9",
        "outputId": "25c37584-684f-4037-bb6d-607a0e29ca76"
      },
      "source": [
        "#removing item\n",
        "emptuple=(\"nish\",\"varsh\",\"hari\",\"my3\")\n",
        "s=list(emptuple)\n",
        "s.remove(\"varsh\")\n",
        "emptuple=tuple(s)\n",
        "print(emptuple)"
      ],
      "execution_count": 25,
      "outputs": [
        {
          "output_type": "stream",
          "name": "stdout",
          "text": [
            "('nish', 'hari', 'my3')\n"
          ]
        }
      ]
    },
    {
      "cell_type": "code",
      "metadata": {
        "colab": {
          "base_uri": "https://localhost:8080/"
        },
        "id": "jzNCCqgd_1nc",
        "outputId": "03ef9b31-206d-4b5c-d26f-e114a490aa46"
      },
      "source": [
        "#deleting tuple\n",
        "emptuple=(\"nish\",\"varsh\",\"my3\",\"hari\")\n",
        "s=list(emptuple)\n",
        "del s[2]\n",
        "emptuple=tuple(s)\n",
        "print(emptuple)"
      ],
      "execution_count": 33,
      "outputs": [
        {
          "output_type": "stream",
          "name": "stdout",
          "text": [
            "('nish', 'varsh', 'hari')\n"
          ]
        }
      ]
    },
    {
      "cell_type": "code",
      "metadata": {
        "colab": {
          "base_uri": "https://localhost:8080/"
        },
        "id": "Ol0d5aMjA5iv",
        "outputId": "7feb12f3-2fc5-49cc-d080-c7b492b8e6a2"
      },
      "source": [
        "#tuple constructor\n",
        "tuple_s=(\"nish\",\"my3\",\"hari\",\"sana\")\n",
        "print(s)\n"
      ],
      "execution_count": 37,
      "outputs": [
        {
          "output_type": "stream",
          "name": "stdout",
          "text": [
            "['nish', 'varsh', 'hari']\n"
          ]
        }
      ]
    },
    {
      "cell_type": "code",
      "metadata": {
        "colab": {
          "base_uri": "https://localhost:8080/",
          "height": 195
        },
        "id": "cfetObhDBYaz",
        "outputId": "825a8bdd-ebbc-4761-95ab-6778c133c236"
      },
      "source": [
        "#count\n",
        "tuple_emp=(\"varsh\",\"nish\",\"my3\",\"nish\")\n",
        "print(tuple_emp.count(\"varsh\",\"nish\",\"my3\",\"nish\"))"
      ],
      "execution_count": 44,
      "outputs": [
        {
          "output_type": "error",
          "ename": "TypeError",
          "evalue": "ignored",
          "traceback": [
            "\u001b[0;31m---------------------------------------------------------------------------\u001b[0m",
            "\u001b[0;31mTypeError\u001b[0m                                 Traceback (most recent call last)",
            "\u001b[0;32m<ipython-input-44-1efff51c1b70>\u001b[0m in \u001b[0;36m<module>\u001b[0;34m()\u001b[0m\n\u001b[1;32m      1\u001b[0m \u001b[0;31m#count\u001b[0m\u001b[0;34m\u001b[0m\u001b[0;34m\u001b[0m\u001b[0;34m\u001b[0m\u001b[0m\n\u001b[1;32m      2\u001b[0m \u001b[0mtuple_emp\u001b[0m\u001b[0;34m=\u001b[0m\u001b[0;34m(\u001b[0m\u001b[0;34m\"varsh\"\u001b[0m\u001b[0;34m,\u001b[0m\u001b[0;34m\"nish\"\u001b[0m\u001b[0;34m,\u001b[0m\u001b[0;34m\"my3\"\u001b[0m\u001b[0;34m,\u001b[0m\u001b[0;34m\"nish\"\u001b[0m\u001b[0;34m)\u001b[0m\u001b[0;34m\u001b[0m\u001b[0;34m\u001b[0m\u001b[0m\n\u001b[0;32m----> 3\u001b[0;31m \u001b[0mprint\u001b[0m\u001b[0;34m(\u001b[0m\u001b[0mtuple_emp\u001b[0m\u001b[0;34m.\u001b[0m\u001b[0mcount\u001b[0m\u001b[0;34m(\u001b[0m\u001b[0;34m\"varsh\"\u001b[0m\u001b[0;34m,\u001b[0m\u001b[0;34m\"nish\"\u001b[0m\u001b[0;34m,\u001b[0m\u001b[0;34m\"my3\"\u001b[0m\u001b[0;34m,\u001b[0m\u001b[0;34m\"nish\"\u001b[0m\u001b[0;34m)\u001b[0m\u001b[0;34m)\u001b[0m\u001b[0;34m\u001b[0m\u001b[0;34m\u001b[0m\u001b[0m\n\u001b[0m",
            "\u001b[0;31mTypeError\u001b[0m: count() takes exactly one argument (4 given)"
          ]
        }
      ]
    }
  ]
}